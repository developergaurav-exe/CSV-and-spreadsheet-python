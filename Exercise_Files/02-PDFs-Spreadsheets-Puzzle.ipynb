{
 "cells": [
  {
   "cell_type": "markdown",
   "metadata": {},
   "source": [
    "___\n",
    "\n",
    "<a href='https://www.udemy.com/user/joseportilla/'><img src='../Pierian_Data_Logo.png'/></a>\n",
    "___\n",
    "<center><em>Content Copyright by Pierian Data</em></center>"
   ]
  },
  {
   "cell_type": "markdown",
   "metadata": {},
   "source": [
    "# PDFs and Spreadsheets Puzzle Exercise\n",
    "\n",
    "Let's test your skills, the files needed for this puzzle exercise\n",
    "\n",
    "You will need to work with two files for this exercise and solve the following tasks:\n",
    "\n",
    "* Task One: Use Python to extract the Google Drive link from the .csv file. (Hint: Its along the diagonal from top left to bottom right).\n",
    "* Task Two: Download the PDF from the Google Drive link (we already downloaded it for you just in case you can't download from Google Drive) and find the phone number that is in the document. Note: There are different ways of formatting a phone number!"
   ]
  },
  {
   "cell_type": "markdown",
   "metadata": {},
   "source": [
    "## Task One: Grab the Google Drive Link from .csv File"
   ]
  },
  {
   "cell_type": "code",
   "execution_count": 3,
   "metadata": {
    "collapsed": true
   },
   "outputs": [
    {
     "data": {
      "text/plain": [
       "66"
      ]
     },
     "execution_count": 3,
     "metadata": {},
     "output_type": "execute_result"
    }
   ],
   "source": [
    "import csv\n",
    "data = open('find_the_link.csv',encoding= 'utf-8')\n",
    "data_lines = list(csv.reader(data))\n",
    "len(data_lines)"
   ]
  },
  {
   "cell_type": "code",
   "execution_count": 15,
   "metadata": {},
   "outputs": [],
   "source": [
    "c = 0\n",
    "link = str()\n",
    "for i in data_lines:\n",
    "    link += str(data_lines[c][c])\n",
    "    c +=1"
   ]
  },
  {
   "cell_type": "code",
   "execution_count": 16,
   "metadata": {},
   "outputs": [
    {
     "data": {
      "text/plain": [
       "'https://drive.google.com/open?id=1G6SEgg018UB4_4xsAJJ5TdzrhmXipr4Q'"
      ]
     },
     "execution_count": 16,
     "metadata": {},
     "output_type": "execute_result"
    }
   ],
   "source": [
    "link"
   ]
  },
  {
   "cell_type": "code",
   "execution_count": null,
   "metadata": {},
   "outputs": [],
   "source": []
  },
  {
   "cell_type": "code",
   "execution_count": 14,
   "metadata": {},
   "outputs": [
    {
     "data": {
      "text/plain": [
       "'https://drive.google.com/open?id=1G6SEgg018UB4_4xsAJJ5TdzrhmXipr4Q'"
      ]
     },
     "execution_count": 14,
     "metadata": {},
     "output_type": "execute_result"
    }
   ],
   "source": [
    "# THe correct result is shown below, if you can't download from Google Drive, \n",
    "# we added the PDF file to the Exercise_Files folder already"
   ]
  },
  {
   "cell_type": "markdown",
   "metadata": {},
   "source": [
    "## Task Two: Download the PDF from the Google Drive link and find the phone number that is in the document. "
   ]
  },
  {
   "cell_type": "code",
   "execution_count": 17,
   "metadata": {
    "collapsed": true
   },
   "outputs": [
    {
     "data": {
      "text/plain": [
       "17"
      ]
     },
     "execution_count": 17,
     "metadata": {},
     "output_type": "execute_result"
    }
   ],
   "source": [
    "# You should get this phone number\n",
    "# 505 503 4455\n",
    "import PyPDF2\n",
    "\n",
    "f = open('Find_the_Phone_Number.pdf','rb')\n",
    "pdf_reader = PyPDF2.PdfFileReader(f)\n",
    "pdf_reader.numPages"
   ]
  },
  {
   "cell_type": "code",
   "execution_count": 31,
   "metadata": {},
   "outputs": [],
   "source": [
    "import re"
   ]
  },
  {
   "cell_type": "code",
   "execution_count": 32,
   "metadata": {},
   "outputs": [],
   "source": [
    "page_one_text = pdf_reader.getPage(0).extract_text()"
   ]
  },
  {
   "cell_type": "code",
   "execution_count": 34,
   "metadata": {},
   "outputs": [
    {
     "data": {
      "text/plain": [
       "[]"
      ]
     },
     "execution_count": 34,
     "metadata": {},
     "output_type": "execute_result"
    }
   ],
   "source": [
    "re.findall(r'\\d{3}-\\d{3}-\\d{4}',page_one_text)"
   ]
  },
  {
   "cell_type": "code",
   "execution_count": 28,
   "metadata": {},
   "outputs": [],
   "source": [
    "all_text = ''\n",
    "for i in range(pdf_reader.numPages):\n",
    "    page_text = pdf_reader.getPage(i).extract_text()\n",
    "    all_text = all_text+ ' ' + page_text"
   ]
  },
  {
   "cell_type": "code",
   "execution_count": 29,
   "metadata": {},
   "outputs": [
    {
     "data": {
      "text/plain": [
       "'  Business Deliverables\\n  \\n\\n \\n\\n \\n\\nStaff engagement touch base yet can I just chime in on that one draw a line in the sand \\n\\nthis proposal is a win\\n-\\nwin situation which will cause a stellar paradigm shift, and \\n\\nproduce a multi\\n-\\nfold increase in deliverables but \\n future\\n-\\nproof. I dont care if you got some \\n\\ncopy, why you dont use officeipsumcom or something like that ? low\\n -\\nhanging fruit beef \\n\\nup, and optimize for search or we need to leverage our synergies. We need to make the \\n\\nnew version clean and sexy bells and whist\\n les, so meeting assassin, and execute . \\n\\nBaseline the procedure and samepage your department push back yet strategic high\\n -\\n\\nlevel 30,000 ft view powerPointless, but deliverables nor circle back. Paddle on both \\n\\nsides conversational content win\\n -\\nwin\\n-\\nwin nor pig \\nin a python overcome key issues to \\n\\nmeet key milestones. Personal development crisp ppt deep dive. Can we parallel path \\n\\nblue sky and this proposal is a win\\n -\\nwin situation which will cause a stellar paradigm \\n\\nshift, and produce a multi\\n-\\nfold increase in deliver\\nables. Where the metal hits the meat \\n\\nhorsehead offer. Onward and upward, productize the deliverables and focus on the \\n\\nbottom line we’re starting to formalize flexible opinions around our foundations so \\n\\nknowledge process outsourcing. Slow\\n -\\nwalk our commitmen\\nt synergize productive \\n\\nmindfulness so high turnaround rate we need to harvest synergy effects. Who\\'s the goto \\n\\non this job with the way forward tbrand terrorists. Your work on this project has been \\n\\nreally impactful. Pushback quantity shoot me an email so si\\n ngle wringable neck hit the \\n\\nground running i’ve been doing some research this morning and we need to better. Roll \\n\\nback strategy move the needle digitalize. Create spaces to explore what’s next. \\n\\nPerformance review let\\'s not solutionize this right now parkin\\n g lot it so win\\n-\\nwin\\n-\\nwin and \\n\\nfast track gain traction. At the end of the day player\\n -\\ncoach nor we need to leverage our \\n\\nsynergies. Can we take this offline vec we\\'ve bootstrapped the model nor feature creep.\\n  \\n\\n \\n\\n \\n\\nChurning anomalies. Face time. Are we in agreeanc\\n e 60% to 30% is a lot of persent no \\n\\nscraps hit the floor, nor critical mass. Can you run this by clearance? hot johnny coming \\n\\nthrough . This proposal is a win\\n -\\nwin situation which will cause a stellar paradigm shift, \\n\\nand produce a multi\\n-\\nfold increase in del\\niverables we need to aspirationalise our \\n\\nofferings so this vendor is incompetent , nor organic growth. Dog and pony show. Turn \\n\\nthe ship. If you want to motivate these clowns, try less carrot and more stick imagineer, \\n\\nbut product market fit and we need to c\\n rystallize a plan pro\\n-\\nsumer software for strategic \\n\\nfit programmatically.\\n \\n\\n \\n\\n  Pushback it\\'s a simple lift and shift job. Hit the ground running zeitgeist hit the ground \\n\\nrunning, but first\\n-\\norder optimal strategies. When does this sunset? bleeding edge, high \\n\\ntu\\nrnaround rate but agile. Ensure to follow requirements when developing solutions we \\n\\nneed to dialog around your choice of work attire ping me optimize the fireball. When \\n\\ndoes this sunset? strategic fit pushback. Helicopter view back of the net, for i am dea\\n d \\n\\ninside win\\n-\\nwin\\n-\\nwin yet service as core &innovations as power makes our brand. What \\n\\ndo you feel you would bring to the table if you were hired for this position. Golden goose \\n\\nwindow\\n-\\nlicker what do you feel you would bring to the table if you were hired fo\\n r this \\n\\nposition, or build on a culture of contribution and inclusion horsehead offer, we don\\'t \\n\\nneed to boil the ocean here. All hands on deck if you could do that, that would be great \\n\\nUI quarterly sales are at an all\\n -\\ntime low, yet sea change but re\\n -\\ninventi\\nng the wheel. Let\\'s \\n\\nput a pin in that locked and loaded. Tribal knowledge get buy\\n -\\nin quick win, so disband \\n\\nthe squad but rehydrate as needed, hit the ground running, nor we want to see more \\n\\ncharts for technologically savvy. Gain traction nail jelly to the \\n hothouse wall, and come \\n\\nup with something buzzworthy. I don\\'t want to drain the whole swamp, i just want to \\n\\nshoot some alligators optics. Product launch quantity can you slack it to me? \\n\\ndownselect for fire up your browser streamline. Products need full res\\n ourcing and \\n\\nsupport from a cross\\n-\\nfunctional team in order to be built, maintained, and evolved come \\n\\nup with something buzzworthy. Can you run this by clearance? hot johnny coming \\n\\nthrough into the weeds, for goalposts. Quarterly sales are at an all\\n -\\ntime low\\n. Pivot \\n\\nbaseline or customer centric, into the weeds innovation is hot right now we have to \\n\\nleverage up the messaging.\\n  \\n\\n \\n\\n \\n\\nA tentative event rundown is attached for your reference, including other happenings on \\n\\nthe day you are most welcome to join us beforeh\\n and for a light lunch we would also like \\n\\nto invite you to other activities on the day, including the interim and closing panel \\n\\ndiscussions on the intersection of businesses and social innovation, and on building a \\n\\nstronger social innovation eco\\n -\\nsystem resp\\nectively. We don\\'t need to boil the ocean \\n\\nhere reach out what are the expectations nor land the plane. Talk to the slides make it \\n\\nmore corporate please. Looks great, can we try it a different way cross functional teams \\n\\nenable out of the box brainstorming a\\n nd cross sabers sacred cow beef up. We should \\n\\nleverage existing asserts that ladder up to the message radical candor and you better \\n\\neat a reality sandwich before you walk back in that boardroom. Loop back core \\n\\ncompetencies. The right info at the right time\\n  \\nto the right people can you put it on my \\n\\ncalendar? so quick\\n-\\nwin yet vertical integration. The horse is out of the barn are there \\n\\nany leftovers in the kitchen? back of the net, this is not the hill i want to die on.\\n  \\n\\n \\n\\n \\n\\nAll hands on deck I just wanted to giv\\n e you a heads\\n-\\nup, minimize backwards overflow \\n\\nand it\\'s not hard guys we need to future\\n -\\nproof this, yet quick win, yet gage [sic] where  the industry is heading and give back to the community what we’ve learned. \\n\\nTechnologically savvy can you slack it to me? \\n drink from the firehose, synergestic \\n\\nactionables. Obviously this is a no\\n -\\nbrainer, so what about scaling components to a \\n\\nglobal audience?, so dunder mifflin regroup. We need to get all stakeholders up to \\n\\nspeed and in the right place knowledge is power circl\\n e back around, yet horsehead offer \\n\\nred flag we need this overall to be busier and more active hit the ground running. Can I \\n\\njust chime in on that one bake it in, onward and upward, productize the deliverables and \\n\\nfocus on the bottom line. Deploy. Window of\\n  \\nopportunity let\\'s schedule a standup during \\n\\nthe sprint to review our kpis can we take this offline, or gain traction. Meeting assassin \\n\\ntbrand terrorists put it on the parking lot or we\\'ve got to manage that low hanging fruit or \\n\\nlow engagement. Meeting ass\\n assin hire the best yet we need distributors to evangelize \\n\\nthe new line to local markets, or corporate synergy nor face time. What do you feel you \\n\\nwould bring to the table if you were hired for this position synergestic actionables yet \\n\\nwork flows , nor mar\\nketing computer development html roi feedback team website what \\n\\ndo you feel you would bring to the table if you were hired for this position dear hiring \\n\\nmanager:. Can you ballpark the cost per unit for me. Five\\n -\\nyear strategic plan shotgun \\n\\napproach, it just\\n \\nneeds more cowbell. Out of the loop player\\n -\\ncoach. What\\'s our go to \\n\\nmarket strategy?.\\n \\n\\n \\n\\n \\n\\nNot the long pole in my tent beef up, or accountable talk yet bleeding edge, so sorry i \\n\\ndidn\\'t get your email. All hands on deck we need to harvest synergy effects, big\\n  \\ndata \\n\\nwhat\\'s the status on the deliverables for eow? so horsehead offer. Talk to the slides no \\n\\nscraps hit the floor window\\n-\\nlicker. Nail it down who\\'s responsible for the ask for this \\n\\nrequest? we need distributors to evangelize the new line to local markets\\n  \\nimagineer, or \\n\\nensure to follow requirements when developing solutions nor make it a priority. Out of \\n\\nscope drink from the firehose, or shoot me an email nor we don\\'t need to boil the ocean \\n\\nhere strategic fit, nor prairie dogging. Bottleneck mice quick\\n -\\nwin\\n \\nto be inspired is to \\n\\nbecome creative, innovative and energized we want this philosophy to trickle down to all \\n\\nour stakeholders or synergestic actionables. I don\\'t want to drain the whole swamp, i \\n\\njust want to shoot some alligators cannibalize, and define \\n the underlying principles that \\n\\ndrive decisions and strategy for your design language so I just wanted to give you a \\n\\nheads\\n-\\nup, or churning anomalies but ultimate measure of success yet first\\n -\\norder optimal \\n\\nstrategies. If you want to motivate these clowns, tr\\n y less carrot and more stick drill down \\n\\nfocus on the customer journey feature creep after I ran into Helen at a restaurant, I \\n\\nrealized she was just office pretty not a hill to die on yet pro\\n -\\nsumer software. Come up \\n\\nwith something buzzworthy can you put it \\n on my calendar? gage [sic] where the industry \\n\\nis heading and give back to the community what we’ve learned where do we stand on \\n\\nthe latest client ask, yet in this space so criticality horsehead offer. Gain traction onward \\n\\nand upward, productize the deliver\\n ables and focus on the bottom line for pro\\n -\\nsumer \\n\\nsoftware, we just need to put these last issues to bed, and we have to leverage up the \\n\\nmessaging forcing function yet we just need to put these last issues to bed. After I ran  into Helen at a restaurant, I r\\n ealized she was just office pretty organic growth drink from \\n\\nthe firehose. Incentivization. We need more paper make it more corporate please so \\n\\nbottleneck mice yet what about scaling components to a global audience?. Manage \\n\\nexpectations enough to wash your\\n  \\nface and flesh that out I have zero cycles for this not \\n\\nenough bandwidth, but are we in agreeance. We need to leverage our synergies \\n\\nusabiltiy, back\\n-\\nend of third quarter. Pull in ten extra bodies to help roll the tortoise get \\n\\nbuy\\n-\\nin.\\n \\n\\n \\n\\n \\n\\nBake it in. Keep it\\n \\nlean. I have zero cycles for this upstream selling but design thinking \\n\\nlet\\'s unpack that later turd polishing. Horsehead offer timeframe, nor criticality or \\n\\ncommitment to the cause push back. Make it more corporate please. I don\\'t want to \\n\\ndrain the whole \\nswamp, i just want to shoot some alligators productize but optimize the \\n\\nfireball so tribal knowledge nor I just wanted to give you a heads\\n -\\nup, or time to open the \\n\\nkimono and your work on this project has been really impactful. What about scaling \\n\\ncomponents\\n \\nto a global audience? teams were able to drive adoption and awareness, \\n\\nthe right info at the right time to the right people so what\\'s the status on the deliverables \\n\\nfor eow? but slow\\n-\\nwalk our commitment slow\\n -\\nwalk our commitment, or re\\n -\\ninventing the \\n\\nwheel.\\n \\nBack of the net not a hill to die on staff engagement, nor hire the best and how \\n\\nmuch bandwidth do you have, hammer out. Teams were able to drive adoption and \\n\\nawareness high turnaround rate. Proceduralize you better eat a reality sandwich before \\n\\nyou walk \\nback in that boardroom per my previous email. Close the loop we\\'ve got to \\n\\nmanage that low hanging fruit please use \"solutionise\" instead of solution ideas! :) for \\n\\ngoalposts. We need to get all stakeholders up to speed and in the right place. We need \\n\\nto tou\\nch base off\\n-\\nline before we fire the new ux experience organic growth, or strategic \\n\\nstaircase, nor crisp ppt commitment to the cause , we need to have a Come to Jesus \\n\\nmeeting with Phil about his attitude throughput. Minimize backwards overflow organic \\n\\ngrowt\\nh, but scope creep. We need to crystallize a plan we need to get all stakeholders \\n\\nup to speed and in the right place but service as core &innovations as power makes our \\n\\nbrand yet three\\n-\\nmartini lunch powerpoint Bunny, and it is all exactly as i said, but i \\n don\\'t \\n\\nlike it, baseline. Corporate synergy gain traction. Highlights vec table the discussion , \\n\\nnor globalize. We have put the apim bol, temporarily so that we can later put the \\n\\nmonitors on criticality c\\n-\\nsuite and minimize backwards overflow. Downselect up\\n sell or \\n\\nwindow\\n-\\nlicker.\\n \\n\\n \\n\\n \\n\\nDisband the squad but rehydrate as needed let\\'s prioritize the low\\n -\\nhanging fruit, pig in a \\n\\npython. Teams were able to drive adoption and awareness. Move the needle exposing \\n\\nnew ways to evolve our design language optimize for search\\n . Run it up the flagpole. \\n\\nWhere the metal hits the meat we need to crystallize a plan time vampire and thinking \\n\\noutside the box. Paddle on both sides we’re starting to formalize flexible opinions  around our foundations or radical candor. Quick\\n -\\nwin we need \\nto harvest synergy effects \\n\\nso sorry i didn\\'t get your email for back to the drawing\\n -\\nboard what the or this proposal is \\n\\na win\\n-\\nwin situation which will cause a stellar paradigm shift, and produce a multi\\n -\\nfold \\n\\nincrease in deliverables. Time to open the kimono\\n  \\nregroup so diversify kpis. Race \\n\\nwithout a finish line drill down, yet if you want to motivate these clowns, try less carrot \\n\\nand more stick, yet prioritize these line items for pushback, for herding cats crank this \\n\\nout. Pipeline guerrilla marketing, nor no\\n t enough bandwidth player\\n -\\ncoach for prioritize \\n\\nthese line items. Synergestic actionables shotgun approach, nor eat our own dog food \\n\\nbaseline the procedure and samepage your department. Push back crisp ppt nor tbrand \\n\\nterrorists, and run it up the flagpole.\\n  \\n\\n \\n\\n \\n\\nClosing these latest prospects is like putting socks on an octopus no scraps hit the floor \\n\\nthat\\'s not on the roadmap peel the onion run it up the flag pole service as core \\n\\n&innovations as power makes our brand. Let me know if you need me to crack any \\n\\nsku\\nlls. Focus on the customer journey cloud native container based, but you gotta \\n\\nsmoke test your hypothesis. Wheelhouse don\\'t over think it and no scraps hit the floor \\n\\nstrategic staircase. Your work on this project has been really impactful wheelhouse. \\n\\nShoot\\n \\nme an email sacred cow. Bottleneck mice that jerk from finance really threw me \\n\\nunder the bus core competencies, nor organic growth, for turn the crank, so optimize \\n\\nthe fireball herding cats. Back to the drawing\\n -\\nboard workflow ecosystem for re\\n -\\ninventing \\n\\nth\\ne wheel please use \"solutionise\" instead of solution ideas! :), exposing new ways to \\n\\nevolve our design language. Low\\n -\\nhanging fruit that ipo will be a game\\n -\\nchanger. A set of \\n\\ncertitudes based on deductions founded on false premise game plan, yet \\n\\ntechnologica\\nlly savvy for pro\\n-\\nsumer software. Driving the initiative forward if you want to \\n\\nmotivate these clowns, try less carrot and more stick, gage [sic] where the industry is \\n\\nheading and give back to the community what we’ve learned no scraps hit the floor, so \\n\\nki\\nlling it, circle back. We have to leverage up the messaging spinning our wheels \\n\\ntechnologically savvy.\\n \\n\\n \\n\\n \\n\\nShelfware that jerk from finance really threw me under the bus first\\n -\\norder optimal \\n\\nstrategies collaboration through advanced technlogy nor disband the \\n squad but \\n\\nrehydrate as needed. Focus on the customer journey red flag, yet can you run this by \\n\\nclearance? hot johnny coming through . That\\'s not on the roadmap to be inspired is to \\n\\nbecome creative, innovative and energized we want this philosophy to trickl\\n e down to all \\n\\nour stakeholders but organic growth out of scope, for we just need to put these last \\n\\nissues to bed. Social currency gain traction, and overcome key issues to meet key \\n\\nmilestones, feature creep, and red flag synergize productive mindfulness de\\n ploy to \\n\\nproduction. Time vampire. Exposing new ways to evolve our design language curate \\n\\nthose options are already baked in with this model, so eat our own dog food but draw a  line in the sand, for zeitgeist. Per my previous email we need to harvest synerg\\n y effects. \\n\\nDear hiring manager: you better eat a reality sandwich before you walk back in that \\n\\nboardroom. Ladder up / ladder back to the strategy cloud native container based (let\\'s \\n\\nnot try to) boil the ocean (here/there/everywhere), strategic fit. Game\\n -\\npl\\nan target rich \\n\\nenvironment for bench mark. Hammer out game\\n -\\nplan it\\'s a simple lift and shift job. Put \\n\\nin in a deck for our standup today manage expectations nor baseline the procedure and \\n\\nsamepage your department, but optimize the fireball. Viral engagemen\\n t criticality \\n\\nproceduralize going forward don\\'t over think it nor wheelhouse. Synergestic actionables \\n\\ndrop\\n-\\ndead date, so collaboration through advanced technlogy horsehead offer. \\n\\nRehydrate the team can we align on lunch orders, for goalposts show pony. Sor\\n ry i \\n\\ndidn\\'t get your email design thinking for turn the crank, for old boys club. Those options \\n\\nare already baked in with this model loop back, and hammer out. Incentivization no \\n\\nscraps hit the floor synergize productive mindfulness baseline yet not a hill\\n  \\nto die on \\n\\ndrink the Kool\\n-\\naid. Big boy pants marketing computer development html roi feedback \\n\\nteam website paddle on both sides, and quick\\n -\\nwin. This medium needs to be more \\n\\ndynamic it is all exactly as i said, but i don\\'t like it churning anomalies ultimat\\n e measure \\n\\nof success nor parallel path. After I ran into Helen at a restaurant, I realized she was \\n\\njust office pretty focus on the customer journey so pipeline. Who\\'s responsible for the \\n\\nask for this request? minimize backwards overflow performance review \\n but I just wanted \\n\\nto give you a heads\\n-\\nup. Put it on the parking lot drive awareness to increase \\n\\nengagement for that ipo will be a game\\n -\\nchanger product market fit for your work on this \\n\\nproject has been really impactful, nor critical mass going forward. Opti\\n mize for search \\n\\nlet\\'s put a pin in that overcome key issues to meet key milestones, focus on the \\n\\ncustomer journey nor rehydrate the team. Close the loop.\\n  \\n\\n \\n\\n \\n\\nStaff engagement touch base yet can I just chime in on that one draw a line in the sand \\n\\nthis proposa\\nl is a win\\n-\\nwin situation which will cause a stellar paradigm shift, and \\n\\nproduce a multi\\n-\\nfold increase in deliverables but future\\n -\\nproof. I dont care if you got some \\n\\ncopy, why you dont use officeipsumcom or something like that ? low\\n -\\nhanging fruit beef \\n\\nup, an\\nd optimize for search or we need to leverage our synergies. We need to make the \\n\\nnew version clean and sexy bells and whistles, so meeting assassin, and execute . \\n\\nBaseline the procedure and samepage your department push back yet strategic high\\n -\\n\\nlevel 30,000 \\nft view powerPointless, but deliverables nor circle back. Paddle on both \\n\\nsides conversational content win\\n -\\nwin\\n-\\nwin nor pig in a python overcome key issues to \\n\\nmeet key milestones. Personal development crisp ppt deep dive. Can we parallel path \\n\\nblue sky and th\\nis proposal is a win\\n-\\nwin situation which will cause a stellar paradigm \\n\\nshift, and produce a multi\\n-\\nfold increase in deliverables. Where the metal hits the meat \\n\\nhorsehead offer. Onward and upward, productize the deliverables and focus on the \\n\\nbottom line we’r\\ne starting to formalize flexible opinions around our foundations so \\n\\nknowledge process outsourcing. Slow\\n -\\nwalk our commitment synergize productive \\n\\nmindfulness so high turnaround rate we need to harvest synergy effects. Who\\'s the goto  on this job with the way\\n \\nforward tbrand terrorists. Your work on this project has been \\n\\nreally impactful. Pushback quantity shoot me an email so single wringable neck hit the \\n\\nground running i’ve been doing some research this morning and we need to better. Roll \\n\\nback strategy move t\\nhe needle digitalize. Create spaces to explore what’s next. \\n\\nPerformance review let\\'s not solutionize this right now parking lot it so win\\n -\\nwin\\n-\\nwin and \\n\\nfast track gain traction. At the end of the day player\\n -\\ncoach nor we need to leverage our \\n\\nsynergies. Can we\\n \\ntake this offline vec we\\'ve bootstrapped the model nor feature creep.\\n  \\n\\n \\n\\n \\n\\nChurning anomalies. Face time. Are we in agreeance 60% to 30% is a lot of persent no \\n\\nscraps hit the floor, nor critical mass. Can you run this by clearance? hot johnny coming \\n\\nthrough \\n. This proposal is a win\\n -\\nwin situation which will cause a stellar paradigm shift, \\n\\nand produce a multi\\n-\\nfold increase in deliverables we need to aspirationalise our \\n\\nofferings so this vendor is incompetent , nor organic growth. Dog and pony show. Turn \\n\\nthe shi\\np. If you want to motivate these clowns, try less carrot and more stick imagineer, \\n\\nbut product market fit and we need to crystallize a plan pro\\n -\\nsumer software for strategic \\n\\nfit programmatically.\\n \\n\\n \\n\\n \\n\\nPushback it\\'s a simple lift and shift job. Hit the ground r\\n unning zeitgeist hit the ground \\n\\nrunning, but first\\n-\\norder optimal strategies. When does this sunset? bleeding edge, high \\n\\nturnaround rate but agile. Ensure to follow requirements when developing solutions we \\n\\nneed to dialog around your choice of work attire p\\n ing me optimize the fireball. When \\n\\ndoes this sunset? strategic fit pushback. Helicopter view back of the net, for i am dead \\n\\ninside win\\n-\\nwin\\n-\\nwin yet service as core &innovations as power makes our brand. What \\n\\ndo you feel you would bring to the table if you w\\n ere hired for this position. Golden goose \\n\\nwindow\\n-\\nlicker what do you feel you would bring to the table if you were hired for this \\n\\nposition, or build on a culture of contribution and inclusion horsehead offer, we don\\'t \\n\\nneed to boil the ocean here. All hands \\n on deck if you could do that, that would be great \\n\\nUI quarterly sales are at an all\\n -\\ntime low, yet sea change but re\\n -\\ninventing the wheel. Let\\'s \\n\\nput a pin in that locked and loaded. Tribal knowledge get buy\\n -\\nin quick win, so disband \\n\\nthe squad but rehydrate as \\nneeded, hit the ground running, nor we want to see more \\n\\ncharts for technologically savvy. Gain traction nail jelly to the hothouse wall, and come \\n\\nup with something buzzworthy. I don\\'t want to drain the whole swamp, i just want to \\n\\nshoot some alligators opti\\ncs. Product launch quantity can you slack it to me? \\n\\ndownselect for fire up your browser streamline. Products need full resourcing and \\n\\nsupport from a cross\\n-\\nfunctional team in order to be built, maintained, and evolved come \\n\\nup with something buzzworthy. Can \\n you run this by clearance? hot johnny coming \\n\\nthrough into the weeds, for goalposts. Quarterly sales are at an all\\n -\\ntime low. Pivot \\n\\nbaseline or customer centric, into the weeds innovation is hot right now we have to \\n\\nleverage up the messaging.\\n    \\n\\n \\n\\nA \\ntentative event rundown is attached for your reference, including other happenings on \\n\\nthe day you are most welcome to join us beforehand for a light lunch we would also like \\n\\nto invite you to other activities on the day, including the interim and closing pa\\n nel \\n\\ndiscussions on the intersection of businesses and social innovation, and on building a \\n\\nstronger social innovation eco\\n -\\nsystem respectively. We don\\'t need to boil the ocean \\n\\nhere reach out what are the expectations nor land the plane. Talk to the slides m\\n ake it \\n\\nmore corporate please. Looks great, can we try it a different way cross functional teams \\n\\nenable out of the box brainstorming and cross sabers sacred cow beef up. We should \\n\\nleverage existing asserts that ladder up to the message radical candor and yo\\n u better \\n\\neat a reality sandwich before you walk back in that boardroom. Loop back core \\n\\ncompetencies. The right info at the right time to the right people can you put it on my \\n\\ncalendar? so quick\\n-\\nwin yet vertical integration. The horse is out of the barn are\\n  \\nthere \\n\\nany leftovers in the kitchen? back of the net, this is not the hill i want to die on.\\n  \\n\\n \\n\\n \\n\\nAll hands on deck I just wanted to give you a heads\\n -\\nup, minimize backwards overflow \\n\\nand it\\'s not hard guys we need to future\\n -\\nproof this, yet quick win, yet gage \\n [sic] where \\n\\nthe industry is heading and give back to the community what we’ve learned. \\n\\nTechnologically savvy can you slack it to me? drink from the firehose, synergestic \\n\\nactionables. Obviously this is a no\\n -\\nbrainer, so what about scaling components to a \\n\\nglo\\nbal audience?, so dunder mifflin regroup. We need to get all stakeholders up to \\n\\nspeed and in the right place knowledge is power circle back around, yet horsehead offer \\n\\nred flag we need this overall to be busier and more active hit the ground running. Can I\\n  \\n\\njust chime in on that one bake it in, onward and upward, productize the deliverables and \\n\\nfocus on the bottom line. Deploy. Window of opportunity let\\'s schedule a standup during \\n\\nthe sprint to review our kpis can we take this offline, or gain traction. Meet\\n ing assassin \\n\\ntbrand terrorists put it on the parking lot or we\\'ve got to manage that low hanging fruit or \\n\\nlow engagement. Meeting assassin hire the best yet we need distributors to evangelize \\n\\nthe new line to local markets, or corporate synergy nor face tim\\n e. What do you feel you \\n\\nwould bring to the table if you were hired for this position synergestic actionables yet \\n\\nwork flows , nor marketing computer development html roi feedback team website what \\n\\ndo you feel you would bring to the table if you were hired \\n for this position dear hiring \\n\\nmanager:. Can you ballpark the cost per unit for me. Five\\n -\\nyear strategic plan shotgun \\n\\napproach, it just needs more cowbell. Out of the loop player\\n -\\ncoach. What\\'s our go to \\n\\nmarket strategy?.\\n \\n\\n \\n\\n \\n\\nNot the long pole in my tent beef u\\n p, or accountable talk yet bleeding edge, so sorry i \\n\\ndidn\\'t get your email. All hands on deck we need to harvest synergy effects, big data  what\\'s the status on the deliverables for eow? so horsehead offer. Talk to the slides no \\n\\nscraps hit the floor window\\n-\\nlicker. Nail it down who\\'s responsible for the ask for this \\n\\nrequest? we need distributors to evangelize the new line to local markets imagineer, or \\n\\nensure to follow requirements when developing solutions nor make it a priority. Out of \\n\\nscope drink from the \\nfirehose, or shoot me an email nor we don\\'t need to boil the ocean \\n\\nhere strategic fit, nor prairie dogging. Bottleneck mice quick\\n -\\nwin to be inspired is to \\n\\nbecome creative, innovative and energized we want this philosophy to trickle down to all \\n\\nour stakehol\\nders or synergestic actionables. I don\\'t want to drain the whole swamp, i \\n\\njust want to shoot some alligators cannibalize, and define the underlying principles that \\n\\ndrive decisions and strategy for your design language so I just wanted to give you a \\n\\nheads\\n-\\nu\\np, or churning anomalies but ultimate measure of success yet first\\n -\\norder optimal \\n\\nstrategies. If you want to motivate these clowns, try less carrot and more stick drill down \\n\\nfocus on the customer journey feature creep after I ran into Helen at a restaurant,\\n  \\nI \\n\\nrealized she was just office pretty not a hill to die on yet pro\\n -\\nsumer software. Come up \\n\\nwith something buzzworthy can you put it on my calendar? gage [sic] where the industry \\n\\nis heading and give back to the community what we’ve learned where do we stan\\n d on \\n\\nthe latest client ask, yet in this space so criticality horsehead offer. Gain traction onward \\n\\nand upward, productize the deliverables and focus on the bottom line for pro\\n -\\nsumer \\n\\nsoftware, we just need to put these last issues to bed, and we have to lev\\n erage up the \\n\\nmessaging forcing function yet we just need to put these last issues to bed. After I ran \\n\\ninto Helen at a restaurant, I realized she was just office pretty organic growth drink from \\n\\nthe firehose. Incentivization. We need more paper make it more\\n  \\ncorporate please so \\n\\nbottleneck mice yet what about scaling components to a global audience?. Manage \\n\\nexpectations enough to wash your face and flesh that out I have zero cycles for this not \\n\\nenough bandwidth, but are we in agreeance. We need to leverage our\\n  \\nsynergies \\n\\nusabiltiy, back\\n-\\nend of third quarter. Pull in ten extra bodies to help roll the tortoise get \\n\\nbuy\\n-\\nin.\\n \\n\\n \\n\\n \\n\\nBake it in. Keep it lean. I have zero cycles for this upstream selling but design thinking \\n\\nlet\\'s unpack that later turd polishing. Horsehead o\\n ffer timeframe, nor criticality or \\n\\ncommitment to the cause push back. Make it more corporate please. I don\\'t want to \\n\\ndrain the whole swamp, i just want to shoot some alligators productize but optimize the \\n\\nfireball so tribal knowledge nor I just wanted to g\\n ive you a heads\\n-\\nup, or time to open the \\n\\nkimono and your work on this project has been really impactful. What about scaling \\n\\ncomponents to a global audience? teams were able to drive adoption and awareness, \\n\\nthe right info at the right time to the right peopl\\n e so what\\'s the status on the deliverables \\n\\nfor eow? but slow\\n-\\nwalk our commitment slow\\n -\\nwalk our commitment, or re\\n -\\ninventing the \\n\\nwheel. Back of the net not a hill to die on staff engagement, nor hire the best and how \\n\\nmuch bandwidth do you have, hammer out. T\\n eams were able to drive adoption and \\n\\nawareness high turnaround rate. Proceduralize you better eat a reality sandwich before \\n\\nyou walk back in that boardroom per my previous email. Close the loop we\\'ve got to  manage that low hanging fruit please use \"solutio\\n nise\" instead of solution ideas! :) for \\n\\ngoalposts. We need to get all stakeholders up to speed and in the right place. We need \\n\\nto touch base off\\n-\\nline before we fire the new ux experience organic growth, or strategic \\n\\nstaircase, nor crisp ppt commitment to t\\n he cause , we need to have a Come to Jesus \\n\\nmeeting with Phil about his attitude throughput. Minimize backwards overflow organic \\n\\ngrowth, but scope creep. We need to crystallize a plan we need to get all stakeholders \\n\\nup to speed and in the right place but se\\n rvice as core &innovations as power makes our \\n\\nbrand yet three\\n-\\nmartini lunch powerpoint Bunny, and it is all exactly as i said, but i don\\'t \\n\\nlike it, baseline. Corporate synergy gain traction. Highlights vec table the discussion , \\n\\nnor globalize. We have put \\nthe apim bol, temporarily so that we can later put the \\n\\nmonitors on criticality c\\n-\\nsuite and minimize backwards overflow. Downselect upsell or \\n\\nwindow\\n-\\nlicker.\\n \\n\\n \\n\\n \\n\\nDisband the squad but rehydrate as needed let\\'s prioritize the low\\n -\\nhanging fruit, pig in a \\n\\npython.\\n \\nTeams were able to drive adoption and awareness. Move the needle exposing \\n\\nnew ways to evolve our design language optimize for search. Run it up the flagpole. \\n\\nWhere the metal hits the meat we need to crystallize a plan time vampire and thinking \\n\\noutside the\\n \\nbox. Paddle on both sides we’re starting to formalize flexible opinions \\n\\naround our foundations or radical candor. Quick\\n -\\nwin we need to harvest synergy effects \\n\\nso sorry i didn\\'t get your email for back to the drawing\\n -\\nboard what the or this proposal is \\n\\na wi\\nn\\n-\\nwin situation which will cause a stellar paradigm shift, and produce a multi\\n -\\nfold \\n\\nincrease in deliverables. Time to open the kimono regroup so diversify kpis. Race \\n\\nwithout a finish line drill down, yet if you want to motivate these clowns, try less carro\\n t \\n\\nand more stick, yet prioritize these line items for pushback, for herding cats crank this \\n\\nout. Pipeline guerrilla marketing, nor not enough bandwidth player\\n -\\ncoach for prioritize \\n\\nthese line items. Synergestic actionables shotgun approach, nor eat our own \\n dog food \\n\\nbaseline the procedure and samepage your department. Push back crisp ppt nor tbrand \\n\\nterrorists, and run it up the flagpole.\\n  \\n\\n \\n\\n \\n\\nClosing these latest prospects is like putting socks on an octopus no scraps hit the floor \\n\\nthat\\'s not on the \\nroadmap peel the onion run it up the flag pole service as core \\n\\n&innovations as power makes our brand. Let me know if you need me to crack any \\n\\nskulls. Focus on the customer journey cloud native container based, but you gotta \\n\\nsmoke test your hypothesis. Whee\\n lhouse don\\'t over think it and no scraps hit the floor \\n\\nstrategic staircase. Your work on this project has been really impactful wheelhouse. \\n\\nShoot me an email sacred cow. Bottleneck mice that jerk from finance really threw me \\n\\nunder the bus core competencies\\n , nor organic growth, for turn the crank, so optimize \\n\\nthe fireball herding cats. Back to the drawing\\n -\\nboard workflow ecosystem for re\\n -\\ninventing \\n\\nthe wheel please use \"solutionise\" instead of solution ideas! :), exposing new ways to  evolve our design language\\n . Low\\n-\\nhanging fruit that ipo will be a game\\n -\\nchanger. A set of \\n\\ncertitudes based on deductions founded on false premise game plan, yet \\n\\ntechnologically savvy for pro\\n -\\nsumer software. Driving the initiative forward if you want to \\n\\nmotivate these clowns, try less\\n  \\ncarrot and more stick, gage [sic] where the industry is \\n\\nheading and give back to the community what we’ve learned no scraps hit the floor, so \\n\\nkilling it, circle back. We have to leverage up the messaging spinning our wheels \\n\\ntechnologically savvy.\\n \\n\\n \\n\\n \\n\\nShelfw\\nare that jerk from finance really threw me under the bus first\\n -\\norder optimal \\n\\nstrategies collaboration through advanced technlogy nor disband the squad but \\n\\nrehydrate as needed. Focus on the customer journey red flag, yet can you run this by \\n\\nclearance? hot j\\nohnny coming through . That\\'s not on the roadmap to be inspired is to \\n\\nbecome creative, innovative and energized we want this philosophy to trickle down to all \\n\\nour stakeholders but organic growth out of scope, for we just need to put these last \\n\\nissues to be\\nd. Social currency gain traction, and overcome key issues to meet key \\n\\nmilestones, feature creep, and red flag synergize productive mindfulness deploy to \\n\\nproduction. Time vampire. Exposing new ways to evolve our design language curate \\n\\nthose options are alre\\nady baked in with this model, so eat our own dog food but draw a \\n\\nline in the sand, for zeitgeist. Per my previous email we need to harvest synergy effects. \\n\\nDear hiring manager: you better eat a reality sandwich before you walk back in that \\n\\nboardroom. Ladde\\nr up / ladder back to the strategy cloud native container based (let\\'s \\n\\nnot try to) boil the ocean (here/there/everywhere), strategic fit. Game\\n -\\nplan target rich \\n\\nenvironment for bench mark. Hammer out game\\n -\\nplan it\\'s a simple lift and shift job. Put \\n\\nin in a d\\neck for our standup today manage expectations nor baseline the procedure and \\n\\nsamepage your department, but optimize the fireball. Viral engagement criticality \\n\\nproceduralize going forward don\\'t over think it nor wheelhouse. Synergestic actionables \\n\\ndrop\\n-\\ndead\\n \\ndate, so collaboration through advanced technlogy horsehead offer. \\n\\nRehydrate the team can we align on lunch orders, for goalposts show pony. Sorry i \\n\\ndidn\\'t get your email design thinking for turn the crank, for old boys club. Those options \\n\\nare already bak\\ned in with this model loop back, and hammer out. Incentivization no \\n\\nscraps hit the floor synergize productive mindfulness baseline yet not a hill to die on \\n\\ndrink the Kool\\n-\\naid. Big boy pants marketing computer development html roi feedback \\n\\nteam website padd\\nle on both sides, and quick\\n -\\nwin. This medium needs to be more \\n\\ndynamic it is all exactly as i said, but i don\\'t like it churning anomalies ultimate measure \\n\\nof success nor parallel path. After I ran into Helen at a restaurant, I realized she was \\n\\njust office \\npretty focus on the customer journey so pipeline. Who\\'s responsible for the \\n\\nask for this request? minimize backwards overflow performance review but I just wanted \\n\\nto give you a heads\\n-\\nup. Put it on the parking lot drive awareness to increase \\n\\nengagement for \\nthat ipo will be a game\\n-\\nchanger product market fit for your work on this \\n\\nproject has been really impactful, nor critical mass going forward. Optimize for search  let\\'s put a pin in that overcome key issues to meet key milestones, focus on the \\n\\ncustomer journ\\ney nor rehydrate the team. Close the loop.\\n  \\n\\n \\n\\n \\n\\nStaff engagement touch base yet can I just chime in on that one draw a line in the sand \\n\\nthis proposal is a win\\n-\\nwin situation which will cause a stellar paradigm shift, and \\n\\nproduce a multi\\n-\\nfold increase in delive\\nrables but future\\n-\\nproof. I dont care if you got some \\n\\ncopy, why you dont use officeipsumcom or something like that ? low\\n -\\nhanging fruit beef \\n\\nup, and optimize for search or we need to leverage our synergies. We need to make the \\n\\nnew version clean and sexy bell\\n s and whistles, so meeting assassin, and execute . \\n\\nBaseline the procedure and samepage your department push back yet strategic high\\n -\\n\\nlevel 30,000 ft view powerPointless, but deliverables nor circle back. Paddle on both \\n\\nsides conversational content win\\n -\\nwin\\n-\\nw\\nin nor pig in a python overcome key issues to \\n\\nmeet key milestones. Personal development crisp ppt deep dive. Can we parallel path \\n\\nblue sky and this proposal is a win\\n -\\nwin situation which will cause a stellar paradigm \\n\\nshift, and produce a multi\\n-\\nfold increase\\n \\nin deliverables. Where the metal hits the meat \\n\\nhorsehead offer. Onward and upward, productize the deliverables and focus on the \\n\\nbottom line we’re starting to formalize flexible opinions around our foundations so \\n\\nknowledge process outsourcing. Slow\\n -\\nwalk ou\\nr commitment synergize productive \\n\\nmindfulness so high turnaround rate we need to harvest synergy effects. Who\\'s the goto \\n\\non this job with the way forward tbrand terrorists. Your work on this project has been \\n\\nreally impactful. Pushback quantity shoot me an \\n email so single wringable neck hit the \\n\\nground running i’ve been doing some research this morning and we need to better. Roll \\n\\nback strategy move the needle digitalize. Create spaces to explore what’s next. \\n\\nPerformance review let\\'s not solutionize this right\\n  \\nnow parking lot it so win\\n-\\nwin\\n-\\nwin and \\n\\nfast track gain traction. At the end of the day player\\n -\\ncoach nor we need to leverage our \\n\\nsynergies. Can we take this offline vec we\\'ve bootstrapped the model nor feature creep.\\n  \\n\\n \\n\\n \\n\\nChurning anomalies. Face time. Are we \\n in agreeance 60% to 30% is a lot of persent no \\n\\nscraps hit the floor, nor critical mass. Can you run this by clearance? hot johnny coming \\n\\nthrough . This proposal is a win\\n -\\nwin situation which will cause a stellar paradigm shift, \\n\\nand produce a multi\\n-\\nfold incr\\nease in deliverables we need to aspirationalise our \\n\\nofferings so this vendor is incompetent , nor organic growth. Dog and pony show. Turn \\n\\nthe ship. If you want to motivate these clowns, try less carrot and more stick imagineer, \\n\\nbut product market fit and w\\n e need to crystallize a plan pro\\n -\\nsumer software for strategic \\n\\nfit programmatically.\\n \\n\\n \\n\\n  Pushback it\\'s a simple lift and shift job. Hit the ground running zeitgeist hit the ground \\n\\nrunning, but first\\n-\\norder optimal strategies. When does this sunset? bleeding ed\\n ge, high \\n\\nturnaround rate but agile. Ensure to follow requirements when developing solutions we \\n\\nneed to dialog around your choice of work attire ping me optimize the fireball. When \\n\\ndoes this sunset? strategic fit pushback. Helicopter view back of the net, f\\n or i am dead \\n\\ninside win\\n-\\nwin\\n-\\nwin yet service as core &innovations as power makes our brand. What \\n\\ndo you feel you would bring to the table if you were hired for this position. Golden goose \\n\\nwindow\\n-\\nlicker what do you feel you would bring to the table if you we\\n re hired for this \\n\\nposition, or build on a culture of contribution and inclusion horsehead offer, we don\\'t \\n\\nneed to boil the ocean here. All hands on deck if you could do that, that would be great \\n\\nUI quarterly sales are at an all\\n -\\ntime low, yet sea change but\\n  \\nre\\n-\\ninventing the wheel. Let\\'s \\n\\nput a pin in that locked and loaded. Tribal knowledge get buy\\n -\\nin quick win, so disband \\n\\nthe squad but rehydrate as needed, hit the ground running, nor we want to see more \\n\\ncharts for technologically savvy. Gain traction nail je\\n lly to the hothouse wall, and come \\n\\nup with something buzzworthy. I don\\'t want to drain the whole swamp, i just want to \\n\\nshoot some alligators optics. Product launch quantity can you slack it to me? \\n\\ndownselect for fire up your browser streamline. Products ne\\n ed full resourcing and \\n\\nsupport from a cross\\n-\\nfunctional team in order to be built, maintained, and evolved come \\n\\nup with something buzzworthy. Can you run this by clearance? hot johnny coming \\n\\nthrough into the weeds, for goalposts. Quarterly sales are at an a\\n ll\\n-\\ntime low. Pivot \\n\\nbaseline or customer centric, into the weeds innovation is hot right now we have to \\n\\nleverage up the messaging.\\n  \\n\\n \\n\\n \\n\\nA tentative event rundown is attached for your reference, including other happenings on \\n\\nthe day you are most welcome to join\\n  \\nus beforehand for a light lunch we would also like \\n\\nto invite you to other activities on the day, including the interim and closing panel \\n\\ndiscussions on the intersection of businesses and social innovation, and on building a \\n\\nstronger social innovation eco\\n -\\nsystem respectively. We don\\'t need to boil the ocean \\n\\nhere reach out what are the expectations nor land the plane. Talk to the slides make it \\n\\nmore corporate please. Looks great, can we try it a different way cross functional teams \\n\\nenable out of the box brai\\nnstorming and cross sabers sacred cow beef up. We should \\n\\nleverage existing asserts that ladder up to the message radical candor and you better \\n\\neat a reality sandwich before you walk back in that boardroom. Loop back core \\n\\ncompetencies. The right info at the\\n  \\nright time to the right people can you put it on my \\n\\ncalendar? so quick\\n-\\nwin yet vertical integration. The horse is out of the barn are there \\n\\nany leftovers in the kitchen? back of the net, this is not the hill i want to die on.\\n  \\n\\n \\n\\n \\n\\nAll hands on deck I just wa\\n nted to give you a heads\\n-\\nup, minimize backwards overflow \\n\\nand it\\'s not hard guys we need to future\\n -\\nproof this, yet quick win, yet gage [sic] where  the industry is heading and give back to the community what we’ve learned. \\n\\nTechnologically savvy can you slack\\n  \\nit to me? drink from the firehose, synergestic \\n\\nactionables. Obviously this is a no\\n -\\nbrainer, so what about scaling components to a \\n\\nglobal audience?, so dunder mifflin regroup. We need to get all stakeholders up to \\n\\nspeed and in the right place knowledge is \\n power circle back around, yet horsehead offer \\n\\nred flag we need this overall to be busier and more active hit the ground running. Can I \\n\\njust chime in on that one bake it in, onward and upward, productize the deliverables and \\n\\nfocus on the bottom line. Deploy\\n . Window of opportunity let\\'s schedule a standup during \\n\\nthe sprint to review our kpis can we take this offline, or gain traction. Meeting assassin \\n\\ntbrand terrorists put it on the parking lot or we\\'ve got to manage that low hanging fruit or \\n\\nlow engagement. \\nMeeting assassin hire the best yet we need distributors to evangelize \\n\\nthe new line to local markets, or corporate synergy nor face time. What do you feel you \\n\\nwould bring to the table if you were hired for this position synergestic actionables yet \\n\\nwork flow\\ns , nor marketing computer development html roi feedback team website what \\n\\ndo you feel you would bring to the table if you were hired for this position dear hiring \\n\\nmanager:. Can you ballpark the cost per unit for me. Five\\n -\\nyear strategic plan shotgun \\n\\napproa\\nch, it just needs more cowbell. Out of the loop player\\n -\\ncoach. What\\'s our go to \\n\\nmarket strategy?.\\n \\n\\n \\n\\n \\n\\nNot the long pole in my tent beef up, or accountable talk yet bleeding edge, so sorry i \\n\\ndidn\\'t get your email. All hands on deck we need to harvest synergy e\\n ffects, big data \\n\\nwhat\\'s the status on the deliverables for eow? Can you call Saul Goodman for me? His \\n\\nphone number is 505.503.4455. So horsehead offer. Talk to the slides no scraps hit the \\n\\nfloor window\\n-\\nlicker. Nail it down who\\'s responsible for the ask for\\n  \\nthis request? we need \\n\\ndistributors to evangelize the new line to local markets imagineer, or ensure to follow \\n\\nrequirements when developing solutions nor make it a priority. Out of scope drink from \\n\\nthe firehose, or shoot me an email nor we don\\'t need to bo\\n il the ocean here strategic fit, \\n\\nnor prairie dogging. Bottleneck mice quick\\n -\\nwin to be inspired is to become creative, \\n\\ninnovative and energized we want this philosophy to trickle down to all our stakeholders \\n\\nor synergestic actionables. I don\\'t want to drain\\n  \\nthe whole swamp, i just want to shoot \\n\\nsome alligators cannibalize, and define the underlying principles that drive decisions \\n\\nand strategy for your design language so I just wanted to give you a heads\\n -\\nup, or \\n\\nchurning anomalies but ultimate measure of succe\\n ss yet first\\n-\\norder optimal strategies. If \\n\\nyou want to motivate these clowns, try less carrot and more stick drill down focus on the \\n\\ncustomer journey feature creep after I ran into Helen at a restaurant, I realized she was \\n\\njust office pretty not a hill to d\\n ie on yet pro\\n-\\nsumer software. Come up with something \\n\\nbuzzworthy can you put it on my calendar? gage [sic] where the industry is heading and \\n\\ngive back to the community what we’ve learned where do we stand on the latest client \\n\\nask, yet in this space so criti\\n cality horsehead offer. Gain traction onward and upward, \\n\\nproductize the deliverables and focus on the bottom line for pro\\n -\\nsumer software, we just \\n\\nneed to put these last issues to bed, and we have to leverage up the messaging forcing  function yet we just ne\\ned to put these last issues to bed. After I ran into Helen at a \\n\\nrestaurant, I realized she was just office pretty organic growth drink from the firehose. \\n\\nIncentivization. We need more paper make it more corporate please so bottleneck mice \\n\\nyet what about sc\\naling components to a global audience?. Manage expectations \\n\\nenough to wash your face and flesh that out I have zero cycles for this not enough \\n\\nbandwidth, but are we in agreeance. We need to leverage our synergies usabiltiy, back\\n -\\n\\nend of third quarter. Pull \\nin ten extra bodies to help roll the tortoise get buy\\n -\\nin.\\n \\n\\n \\n\\n \\n\\nBake it in. Keep it lean. I have zero cycles for this upstream selling but design thinking \\n\\nlet\\'s unpack that later turd polishing. Horsehead offer timeframe, nor criticality or \\n\\ncommitment to the c\\nause push back. Make it more corporate please. I don\\'t want to \\n\\ndrain the whole swamp, i just want to shoot some alligators productize but optimize the \\n\\nfireball so tribal knowledge nor I just wanted to give you a heads\\n -\\nup, or time to open the \\n\\nkimono and you\\nr work on this project has been really impactful. What about scaling \\n\\ncomponents to a global audience? teams were able to drive adoption and awareness, \\n\\nthe right info at the right time to the right people so what\\'s the status on the deliverables \\n\\nfor eow? bu\\nt slow\\n-\\nwalk our commitment slow\\n -\\nwalk our commitment, or re\\n -\\ninventing the \\n\\nwheel. Back of the net not a hill to die on staff engagement, nor hire the best and how \\n\\nmuch bandwidth do you have, hammer out. Teams were able to drive adoption and \\n\\nawareness high tu\\nrnaround rate. Proceduralize you better eat a reality sandwich before \\n\\nyou walk back in that boardroom per my previous email. Close the loop we\\'ve got to \\n\\nmanage that low hanging fruit please use \"solutionise\" instead of solution ideas! :) for \\n\\ngoalposts. We \\nneed to get all stakeholders up to speed and in the right place. We need \\n\\nto touch base off\\n-\\nline before we fire the new ux experience organic growth, or strategic \\n\\nstaircase, nor crisp ppt commitment to the cause , we need to have a Come to Jesus \\n\\nmeeting wit\\nh Phil about his attitude throughput. Minimize backwards overflow organic \\n\\ngrowth, but scope creep. We need to crystallize a plan we need to get all stakeholders \\n\\nup to speed and in the right place but service as core &innovations as power makes our \\n\\nbrand ye\\nt three\\n-\\nmartini lunch powerpoint Bunny, and it is all exactly as i said, but i don\\'t \\n\\nlike it, baseline. Corporate synergy gain traction. Highlights vec table the discussion , \\n\\nnor globalize. We have put the apim bol, temporarily so that we can later put the\\n  \\n\\nmonitors on criticality c\\n-\\nsuite and minimize backwards overflow. Downselect upsell or \\n\\nwindow\\n-\\nlicker.\\n \\n\\n \\n\\n \\n\\nDisband the squad but rehydrate as needed let\\'s prioritize the low\\n -\\nhanging fruit, pig in a \\n\\npython. Teams were able to drive adoption and awareness. Move\\n  \\nthe needle exposing \\n\\nnew ways to evolve our design language optimize for search. Run it up the flagpole. \\n\\nWhere the metal hits the meat we need to crystallize a plan time vampire and thinking \\n\\noutside the box. Paddle on both sides we’re starting to formalize\\n  \\nflexible opinions  around our foundations or radical candor. Quick\\n -\\nwin we need to harvest synergy effects \\n\\nso sorry i didn\\'t get your email for back to the drawing\\n -\\nboard what the or this proposal is \\n\\na win\\n-\\nwin situation which will cause a stellar paradigm sh\\n ift, and produce a multi\\n-\\nfold \\n\\nincrease in deliverables. Time to open the kimono regroup so diversify kpis. Race \\n\\nwithout a finish line drill down, yet if you want to motivate these clowns, try less carrot \\n\\nand more stick, yet prioritize these line items for \\n pushback, for herding cats crank this \\n\\nout. Pipeline guerrilla marketing, nor not enough bandwidth player\\n -\\ncoach for prioritize \\n\\nthese line items. Synergestic actionables shotgun approach, nor eat our own dog food \\n\\nbaseline the procedure and samepage your depa\\n rtment. Push back crisp ppt nor tbrand \\n\\nterrorists, and run it up the flagpole.\\n  \\n\\n \\n\\n \\n\\nClosing these latest prospects is like putting socks on an octopus no scraps hit the floor \\n\\nthat\\'s not on the roadmap peel the onion run it up the flag pole service as core \\n\\n&innovations as power makes our brand. Let me know if you need me to crack any \\n\\nskulls. Focus on the customer journey cloud native container based, but you gotta \\n\\nsmoke test your hypothesis. Wheelhouse don\\'t over think it and no scraps hit the floor \\n\\nstrategi\\nc staircase. Your work on this project has been really impactful wheelhouse. \\n\\nShoot me an email sacred cow. Bottleneck mice that jerk from finance really threw me \\n\\nunder the bus core competencies, nor organic growth, for turn the crank, so optimize \\n\\nthe fireb\\nall herding cats. Back to the drawing\\n -\\nboard workflow ecosystem for re\\n -\\ninventing \\n\\nthe wheel please use \"solutionise\" instead of solution ideas! :), exposing new ways to \\n\\nevolve our design language. Low\\n -\\nhanging fruit that ipo will be a game\\n -\\nchanger. A set of \\n\\nc\\nertitudes based on deductions founded on false premise game plan, yet \\n\\ntechnologically savvy for pro\\n -\\nsumer software. Driving the initiative forward if you want to \\n\\nmotivate these clowns, try less carrot and more stick, gage [sic] where the industry is \\n\\nheadin\\ng and give back to the community what we’ve learned no scraps hit the floor, so \\n\\nkilling it, circle back. We have to leverage up the messaging spinning our wheels \\n\\ntechnologically savvy.\\n \\n\\n \\n\\n \\n\\nShelfware that jerk from finance really threw me under the bus first\\n -\\norder optimal \\n\\nstrategies collaboration through advanced technlogy nor disband the squad but \\n\\nrehydrate as needed. Focus on the customer journey red flag, yet can you run this by \\n\\nclearance? hot johnny coming through . That\\'s not on the roadmap to be inspired\\n  \\nis to \\n\\nbecome creative, innovative and energized we want this philosophy to trickle down to all \\n\\nour stakeholders but organic growth out of scope, for we just need to put these last \\n\\nissues to bed. Social currency gain traction, and overcome key issues to me\\n et key \\n\\nmilestones, feature creep, and red flag synergize productive mindfulness deploy to \\n\\nproduction. Time vampire. Exposing new ways to evolve our design language curate \\n\\nthose options are already baked in with this model, so eat our own dog food but draw \\n a  line in the sand, for zeitgeist. Per my previous email we need to harvest synergy effects. \\n\\nDear hiring manager: you better eat a reality sandwich before you walk back in that \\n\\nboardroom. Ladder up / ladder back to the strategy cloud native container based\\n  \\n(let\\'s \\n\\nnot try to) boil the ocean (here/there/everywhere), strategic fit. Game\\n -\\nplan target rich \\n\\nenvironment for bench mark. Hammer out game\\n -\\nplan it\\'s a simple lift and shift job. Put \\n\\nin in a deck for our standup today manage expectations nor baseline the \\n procedure and \\n\\nsamepage your department, but optimize the fireball. Viral engagement criticality \\n\\nproceduralize going forward don\\'t over think it nor wheelhouse. Synergestic actionables \\n\\ndrop\\n-\\ndead date, so collaboration through advanced technlogy horsehead of\\n fer. \\n\\nRehydrate the team can we align on lunch orders, for goalposts show pony. Sorry i \\n\\ndidn\\'t get your email design thinking for turn the crank, for old boys club. Those options \\n\\nare already baked in with this model loop back, and hammer out. Incentivizatio\\n n no \\n\\nscraps hit the floor synergize productive mindfulness baseline yet not a hill to die on \\n\\ndrink the Kool\\n-\\naid. Big boy pants marketing computer development html roi feedback \\n\\nteam website paddle on both sides, and quick\\n -\\nwin. This medium needs to be more \\n\\nd\\nynamic it is all exactly as i said, but i don\\'t like it churning anomalies ultimate measure \\n\\nof success nor parallel path. After I ran into Helen at a restaurant, I realized she was \\n\\njust office pretty focus on the customer journey so pipeline. Who\\'s respons\\n ible for the \\n\\nask for this request? minimize backwards overflow performance review but I just wanted \\n\\nto give you a heads\\n-\\nup. Put it on the parking lot drive awareness to increase \\n\\nengagement for that ipo will be a game\\n -\\nchanger product market fit for your wor\\n k on this \\n\\nproject has been really impactful, nor critical mass going forward. Optimize for search \\n\\nlet\\'s put a pin in that overcome key issues to meet key milestones, focus on the \\n\\ncustomer journey nor rehydrate the team. Close the loop.\\n  \\n\\n \\n\\n '"
      ]
     },
     "execution_count": 29,
     "metadata": {},
     "output_type": "execute_result"
    }
   ],
   "source": [
    "all_text"
   ]
  },
  {
   "cell_type": "code",
   "execution_count": 35,
   "metadata": {},
   "outputs": [
    {
     "data": {
      "text/plain": [
       "['000', '000', '000', '505', '503', '445']"
      ]
     },
     "execution_count": 35,
     "metadata": {},
     "output_type": "execute_result"
    }
   ],
   "source": [
    "re.findall(r'\\d{3}', all_text)"
   ]
  },
  {
   "cell_type": "code",
   "execution_count": 37,
   "metadata": {},
   "outputs": [
    {
     "name": "stdout",
     "output_type": "stream",
     "text": [
      "<re.Match object; span=(671, 674), match='000'>\n",
      "<re.Match object; span=(18696, 18699), match='000'>\n",
      "<re.Match object; span=(36712, 36715), match='000'>\n",
      "<re.Match object; span=(43908, 43911), match='505'>\n",
      "<re.Match object; span=(43912, 43915), match='503'>\n",
      "<re.Match object; span=(43916, 43919), match='445'>\n"
     ]
    }
   ],
   "source": [
    "for match in re.finditer(r'\\d{3}', all_text):\n",
    "    print(match)"
   ]
  },
  {
   "cell_type": "code",
   "execution_count": 40,
   "metadata": {},
   "outputs": [
    {
     "data": {
      "text/plain": [
       "'505.503.4455. So horse'"
      ]
     },
     "execution_count": 40,
     "metadata": {},
     "output_type": "execute_result"
    }
   ],
   "source": [
    "all_text[43908:43930]"
   ]
  },
  {
   "cell_type": "code",
   "execution_count": 42,
   "metadata": {},
   "outputs": [
    {
     "name": "stdout",
     "output_type": "stream",
     "text": [
      "<re.Match object; span=(43908, 43920), match='505.503.4455'>\n"
     ]
    }
   ],
   "source": [
    "for match in re.finditer(r'\\d{3}.\\d{3}.\\d{4}', all_text):\n",
    "    print(match)"
   ]
  }
 ],
 "metadata": {
  "anaconda-cloud": {},
  "kernelspec": {
   "display_name": "Python 3.10.5 64-bit",
   "language": "python",
   "name": "python3"
  },
  "language_info": {
   "codemirror_mode": {
    "name": "ipython",
    "version": 3
   },
   "file_extension": ".py",
   "mimetype": "text/x-python",
   "name": "python",
   "nbconvert_exporter": "python",
   "pygments_lexer": "ipython3",
   "version": "3.10.5"
  },
  "vscode": {
   "interpreter": {
    "hash": "e8899eb02dfbc033aab5733bdae1bd213fa031d40331094008e8673d99ebab63"
   }
  }
 },
 "nbformat": 4,
 "nbformat_minor": 2
}
